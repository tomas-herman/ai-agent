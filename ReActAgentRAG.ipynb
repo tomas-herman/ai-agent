{
 "cells": [
  {
   "cell_type": "code",
   "execution_count": null,
   "metadata": {},
   "outputs": [],
   "source": [
    "# Import necessary libraries\n",
    "import os\n",
    "import dotenv\n",
    "import urllib.request\n",
    "from langchain_openai import ChatOpenAI, OpenAI\n",
    "from langchain_community.document_loaders import PyPDFLoader, JSONLoader\n",
    "from langchain_community.document_loaders.blob_loaders.youtube_audio import YoutubeAudioLoader\n",
    "from langchain_community.document_loaders.parsers import OpenAIWhisperParser\n",
    "from langchain_community.document_loaders.generic import GenericLoader\n",
    "from langchain.text_splitter import RecursiveCharacterTextSplitter\n",
    "from langchain_community.vectorstores import Chroma\n",
    "from langchain_openai import OpenAIEmbeddings\n",
    "from langchain.agents import AgentExecutor, create_react_agent\n",
    "from langchain_community.tools.tavily_search import TavilySearchResults\n",
    "from langchain import hub\n",
    "from langchain.memory import ConversationSummaryBufferMemory\n",
    "from langchain_community.tools import WikipediaQueryRun\n",
    "from langchain_community.utilities import WikipediaAPIWrapper\n",
    "from langchain.tools.retriever import create_retriever_tool\n",
    "\n",
    "# Load environment variables from .env file\n",
    "dotenv.load_dotenv()\n",
    "\n",
    "# Initialize OpenAI models for chat and general use\n",
    "chat_model = ChatOpenAI(model=\"gpt-3.5-turbo-0125\", temperature=0.0)\n",
    "llm_model = OpenAI(temperature=0.0)"
   ]
  },
  {
   "cell_type": "code",
   "execution_count": null,
   "metadata": {},
   "outputs": [],
   "source": [
    "# Load a PDF document\n",
    "pdf_loader = PyPDFLoader(\"docs/dissertation.pdf\")\n",
    "pdf_pages = pdf_loader.load()\n",
    "\n",
    "# Split text into chunks based on character count\n",
    "text_splitter = RecursiveCharacterTextSplitter(chunk_size=1000, chunk_overlap=100)\n",
    "pdf_splits = text_splitter.split_documents(pdf_pages)\n",
    "\n",
    "# Create a vector store from PDF document splits for information retrieval\n",
    "pdf_vector_store = Chroma.from_documents(documents=pdf_splits, embedding=OpenAIEmbeddings())\n",
    "pdf_retriever = pdf_vector_store.as_retriever(search_type=\"mmr\", search_kwargs={\"k\": 4, \"fetch_k\": 6})\n",
    "\n",
    "# Convert the PDF document retriever into a tool\n",
    "pdf_retriever_tool = create_retriever_tool(\n",
    "    pdf_retriever,\n",
    "    \"search_dissertation\",\n",
    "    \"Searches and returns excerpts from the dissertation thesis on photoproduction measurements of ALICE detector at the LHC.\",\n",
    ")\n"
   ]
  },
  {
   "cell_type": "code",
   "execution_count": null,
   "metadata": {},
   "outputs": [],
   "source": [
    "# Download YouTube video, create transcript, and save it\n",
    "youtube_url = \"https://www.youtube.com/watch?v=KwR3nxojS0g\"\n",
    "youtube_save_dir = \"docs/youtube/\"\n",
    "youtube_loader = GenericLoader(\n",
    "    YoutubeAudioLoader([youtube_url], youtube_save_dir),\n",
    "    OpenAIWhisperParser()\n",
    ")\n",
    "docs_youtube = youtube_loader.load()\n",
    "\n",
    "# Split the YouTube transcript into chunks\n",
    "transcript_splitter = RecursiveCharacterTextSplitter(chunk_size=1000, chunk_overlap=100)\n",
    "youtube_splits = transcript_splitter.split_documents(docs_youtube)\n",
    "\n",
    "# Create a vector store from YouTube document splits\n",
    "youtube_vector_store = Chroma.from_documents(documents=youtube_splits, embedding=OpenAIEmbeddings())\n",
    "youtube_retriever = youtube_vector_store.as_retriever(search_type=\"mmr\", search_kwargs={\"k\": 4, \"fetch_k\": 6})\n",
    "\n",
    "# Convert the YouTube video retriever into a tool\n",
    "youtube_retriever_tool = create_retriever_tool(\n",
    "    youtube_retriever,\n",
    "    \"search_YT_video\",\n",
    "    \"Searches and returns excerpts from the YouTube video 'How to Invest New Cash? Dollar Cost Averaging vs. Lump Sum Investing' by Ben Felix\"\n",
    ")\n"
   ]
  },
  {
   "cell_type": "code",
   "execution_count": null,
   "metadata": {},
   "outputs": [],
   "source": [
    "# Initialize Wikipedia API wrapper and tool\n",
    "wiki_api_wrapper = WikipediaAPIWrapper(top_k_results=1, doc_content_chars_max=100)\n",
    "wiki_tool = WikipediaQueryRun(api_wrapper=wiki_api_wrapper)\n"
   ]
  },
  {
   "cell_type": "code",
   "execution_count": null,
   "metadata": {},
   "outputs": [],
   "source": [
    "# Define prompt and tools for the agent\n",
    "prompt = hub.pull(\"tomas-herman/react-chat\")\n",
    "tools = [youtube_retriever_tool, pdf_retriever_tool, wiki_tool, TavilySearchResults(max_results=1)]\n",
    "\n",
    "# Create a memory buffer for conversation history\n",
    "conversation_memory = ConversationSummaryBufferMemory(llm=llm_model, max_token_limit=100, return_messages=True, memory_key=\"chat_history\")\n",
    "\n",
    "# Create and execute an agent for handling various inputs\n",
    "agent = create_react_agent(chat_model, tools, prompt)\n",
    "agent_executor = AgentExecutor(agent=agent, tools=tools, verbose=True, memory=conversation_memory, handle_parsing_errors=True)"
   ]
  },
  {
   "cell_type": "code",
   "execution_count": null,
   "metadata": {},
   "outputs": [],
   "source": [
    "agent_executor.invoke({\"input\": \"Which measurement is reported in the dissertation thesis?\"})"
   ]
  },
  {
   "cell_type": "code",
   "execution_count": null,
   "metadata": {},
   "outputs": [],
   "source": [
    "agent_executor.invoke({\"input\": \"Which theoretical models are discussed in the dissertation thesis?\"})"
   ]
  },
  {
   "cell_type": "code",
   "execution_count": null,
   "metadata": {},
   "outputs": [],
   "source": [
    "agent_executor.invoke({\"input\": \"What is the best way to invest a large sum of money?\"})"
   ]
  },
  {
   "cell_type": "code",
   "execution_count": null,
   "metadata": {},
   "outputs": [],
   "source": [
    "agent_executor.invoke({\"input\": \"Who is the author of the dissertation thesis?\"})"
   ]
  },
  {
   "cell_type": "code",
   "execution_count": null,
   "metadata": {},
   "outputs": [],
   "source": []
  }
 ],
 "metadata": {
  "kernelspec": {
   "display_name": "base",
   "language": "python",
   "name": "python3"
  },
  "language_info": {
   "codemirror_mode": {
    "name": "ipython",
    "version": 3
   },
   "file_extension": ".py",
   "mimetype": "text/x-python",
   "name": "python",
   "nbconvert_exporter": "python",
   "pygments_lexer": "ipython3",
   "version": "3.11.5"
  }
 },
 "nbformat": 4,
 "nbformat_minor": 2
}
